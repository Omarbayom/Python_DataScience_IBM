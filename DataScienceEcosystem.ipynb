{
 "cells": [
  {
   "cell_type": "markdown",
   "metadata": {},
   "source": [
    "# Data Science Tools and Ecosystem"
   ]
  },
  {
   "cell_type": "markdown",
   "metadata": {},
   "source": [
    "## this is the intro \n",
    "#### somewords hfsdjdsbgsg,md"
   ]
  },
  {
   "cell_type": "markdown",
   "metadata": {},
   "source": [
    "## Some of the popular languages that Data Scientists use are:\n",
    "1. python\n",
    "2. SQL\n",
    "3. R"
   ]
  },
  {
   "cell_type": "markdown",
   "metadata": {},
   "source": [
    "## Some of the commonly used libraries used by Data Scientists include:\n",
    "1. Numpy\n",
    "2. Pandas\n",
    "3. scikit-learn"
   ]
  },
  {
   "cell_type": "markdown",
   "metadata": {},
   "source": [
    "## A table of Data Science tools"
   ]
  },
  {
   "cell_type": "markdown",
   "metadata": {},
   "source": [
    "| Category          | Tool          | Description                                                           |\n",
    "|-------------------|---------------|-----------------------------------------------------------------------|\n",
    "| Data Manipulation | Pandas        | Data manipulation and analysis library in Python.                     |\n",
    "|                   | NumPy         | Fundamental package for numerical computing with Python.              |\n",
    "| Visualization     | Matplotlib    | Comprehensive plotting library for creating static, animated, and interactive visualizations in Python. |\n",
    "|                   | Seaborn       | Statistical data visualization library based on Matplotlib.          |\n",
    "| Machine Learning  | scikit-learn  | Simple and efficient tools for data mining and data analysis.         |\n",
    "|                   | TensorFlow    | Open-source machine learning framework developed by Google Brain.     |\n",
    "|                   | PyTorch       | Deep learning library used for applications such as natural language processing and computer vision. |\n",
    "| Deep Learning     | Keras         | High-level neural networks API, capable of running on top of TensorFlow, Theano, or Microsoft Cognitive Toolkit. |\n",
    "|                   | TensorFlow    | Open-source machine learning framework developed by Google Brain.     |\n",
    "|                   | PyTorch       | Deep learning library used for applications such as natural language processing and computer vision. |\n",
    "| Data Visualization| Tableau       | Business intelligence and analytics platform with powerful data visualization capabilities. |\n",
    "|                   | Power BI      | Business analytics solution by Microsoft with interactive visualizations and business intelligence capabilities. |\n"
   ]
  },
  {
   "cell_type": "markdown",
   "metadata": {},
   "source": [
    "### Below are a few examples of evaluating arithmetic expressions in Python\n",
    "1. **Addition**: Adding two numbers together.\n",
    "2. **Subtraction**: Finding the difference between two numbers.\n",
    "3. **Multiplication**: Multiplying two numbers.\n",
    "4. **Division**: Dividing one number by another.\n",
    "\n",
    "\n"
   ]
  },
  {
   "cell_type": "code",
   "execution_count": 1,
   "metadata": {},
   "outputs": [
    {
     "name": "stdout",
     "output_type": "stream",
     "text": [
      "17\n"
     ]
    }
   ],
   "source": [
    "# This is a simple arithmetic expression to multiply then add integers.\n",
    "print((3 * 4) + 5)"
   ]
  },
  {
   "cell_type": "code",
   "execution_count": 2,
   "metadata": {},
   "outputs": [
    {
     "name": "stdout",
     "output_type": "stream",
     "text": [
      "3.3333333333333335\n"
     ]
    }
   ],
   "source": [
    "#This will convert 200 minutes to hours by diving by 60\n",
    "print(200/60)"
   ]
  },
  {
   "cell_type": "markdown",
   "metadata": {},
   "source": [
    "#### **Objectives:**\n",
    "- Data sicence tools\n",
    "- List popular languages for Data Science.\n",
    "- Introduce commonly used libraries in Data Science."
   ]
  },
  {
   "cell_type": "markdown",
   "metadata": {},
   "source": [
    "## AUTHOR\n",
    "omar ahmed gomaa"
   ]
  }
 ],
 "metadata": {
  "kernelspec": {
   "display_name": "Python 3",
   "language": "python",
   "name": "python3"
  },
  "language_info": {
   "codemirror_mode": {
    "name": "ipython",
    "version": 3
   },
   "file_extension": ".py",
   "mimetype": "text/x-python",
   "name": "python",
   "nbconvert_exporter": "python",
   "pygments_lexer": "ipython3",
   "version": "3.9.13"
  }
 },
 "nbformat": 4,
 "nbformat_minor": 2
}
